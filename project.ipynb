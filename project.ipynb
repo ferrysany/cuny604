{
  "nbformat": 4,
  "nbformat_minor": 0,
  "metadata": {
    "colab": {
      "name": "project.ipynb",
      "provenance": [],
      "collapsed_sections": [],
      "authorship_tag": "ABX9TyOaZt5lWv4/L7DieKyco9jH",
      "include_colab_link": true
    },
    "kernelspec": {
      "name": "python3",
      "display_name": "Python 3"
    },
    "language_info": {
      "name": "python"
    }
  },
  "cells": [
    {
      "cell_type": "markdown",
      "metadata": {
        "id": "view-in-github",
        "colab_type": "text"
      },
      "source": [
        "<a href=\"https://colab.research.google.com/github/ferrysany/cuny604/blob/main/project.ipynb\" target=\"_parent\"><img src=\"https://colab.research.google.com/assets/colab-badge.svg\" alt=\"Open In Colab\"/></a>"
      ]
    },
    {
      "cell_type": "markdown",
      "metadata": {
        "id": "0sN6Ju1vdzhW"
      },
      "source": [
        "CUNY 604 2021 Summer Project - Chun San Yip"
      ]
    },
    {
      "cell_type": "markdown",
      "metadata": {
        "id": "HH2eqWsn28In"
      },
      "source": [
        "Procurement Process Simulation"
      ]
    },
    {
      "cell_type": "code",
      "metadata": {
        "id": "N6V31siPMImd"
      },
      "source": [
        "# download modsim.py if necessary\n",
        "\n",
        "try:\n",
        "    import pint\n",
        "except ImportError:\n",
        "    !pip install pint\n",
        "    import pint\n",
        "    \n",
        "try:\n",
        "    from modsim import *\n",
        "except ImportError:\n",
        "    !pip install modsimpy\n",
        "    from modsim import *"
      ],
      "execution_count": 1,
      "outputs": []
    },
    {
      "cell_type": "code",
      "metadata": {
        "id": "NAA5cJiTMP84"
      },
      "source": [
        "# import functions from modsim\n",
        "\n",
        "from modsim import *\n",
        "import matplotlib.pyplot as plt\n",
        "import numpy as np"
      ],
      "execution_count": 32,
      "outputs": []
    },
    {
      "cell_type": "markdown",
      "metadata": {
        "id": "44DB7KJs_K3E"
      },
      "source": [
        "This project is build on the top of the customer check out example of Allen Downey \n",
        "\n",
        "The team has 5 buyers\n",
        "\n",
        "The average number of Purchase Order per week is about 60.\n",
        "\n",
        "The estimated process time for each Purchase Orders is 6 to 8 hours."
      ]
    },
    {
      "cell_type": "code",
      "metadata": {
        "id": "dv0MNwpGhFDc"
      },
      "source": [
        "\"\"\" This function is to generate a system\n",
        "lam is the incoming rate\n",
        "mu is the process rate\n",
        "duration is the simulation time (5 days or 2400 minutes)\n",
        "\"\"\"\n",
        "\n",
        "def PO_system(lam, mu, n):\n",
        "      \n",
        "  return System(lam=lam, mu=mu, n=n, duration=2400)"
      ],
      "execution_count": 3,
      "outputs": []
    },
    {
      "cell_type": "code",
      "metadata": {
        "colab": {
          "base_uri": "https://localhost:8080/"
        },
        "id": "cSZK2hpMjbCe",
        "outputId": "f43b05c0-3878-489a-fd20-63de0a3cae3e"
      },
      "source": [
        "\"\"\" As day is the unit of the simulation\n",
        "As there are 60 Purchase Order per 5 days or there are 12 Purchase Order per day\n",
        "or 1 Purchase Order every 0.667 hours\n",
        "The service time is about 6 hours \"\"\"\n",
        "\n",
        "interarrival_time = 40\n",
        "service_time = 360\n",
        "\n",
        "lam = 1/interarrival_time\n",
        "mu = 1/service_time\n",
        "n=5\n",
        "\n",
        "system = PO_system(lam=lam, mu=mu, n=n)\n",
        "system"
      ],
      "execution_count": 4,
      "outputs": [
        {
          "output_type": "execute_result",
          "data": {
            "text/plain": [
              "System(duration=2400, lam=0.025, mu=0.002777777777777778, n=5)"
            ]
          },
          "metadata": {
            "tags": []
          },
          "execution_count": 4
        }
      ]
    },
    {
      "cell_type": "code",
      "metadata": {
        "id": "dkBK0dNjrp2F"
      },
      "source": [
        "\"\"\" \n",
        "x - the total number of Purchase Orders in the queue, including the Purchase \n",
        "    Orders being processed\n",
        "t - the number of minutes that have elapsed in the simulation\n",
        "Only 1 queue for this update function\n",
        "n - number of buyer\n",
        "If all buyers are busy, check whether the last is complete\n",
        "\"\"\"\n",
        "\n",
        "def update_func_one(x, t, system):\n",
        "\n",
        "  for i in reversed(range(system.n)):   \n",
        "          \n",
        "    if x > i-1:\n",
        "      if flip(system.mu):\n",
        "        x -= 1\n",
        "  \n",
        "  if flip(system.lam):\n",
        "    x += 1\n",
        "\n",
        "  return x"
      ],
      "execution_count": 5,
      "outputs": []
    },
    {
      "cell_type": "code",
      "metadata": {
        "id": "CO7DEnk-vMud"
      },
      "source": [
        "def run_simulation(system, update_func_one):\n",
        "    \"\"\"Simulate a queueing system.\n",
        "    \n",
        "    system: System object\n",
        "    update_func_one: function object\n",
        "    \"\"\"\n",
        "    x = 0\n",
        "    results = TimeSeries()\n",
        "    results[0] = x\n",
        "    \n",
        "    for t in linrange(0, system.duration):\n",
        "        x = update_func_one(x, t, system)\n",
        "        results[t+1] = x\n",
        "\n",
        "    return results\n"
      ],
      "execution_count": 6,
      "outputs": []
    },
    {
      "cell_type": "code",
      "metadata": {
        "id": "4MKV4WqE3EGa"
      },
      "source": [
        "def multiple_buyer(n): \n",
        "\n",
        "  for i in range(n):\n",
        "    system = PO_system(lam=lam, mu=mu, n=(i+1))\n",
        "    results = run_simulation(system, update_func_one)\n",
        "    results.plot(label=str(i+1)+' Buyers')\n",
        "\n",
        "  decorate(title='Purchase Order Processing',\n",
        "            xlabel='Time (mins)',\n",
        "            ylabel='Number of Purchase Order in the Queue')\n",
        "\n",
        "  return"
      ],
      "execution_count": 7,
      "outputs": []
    },
    {
      "cell_type": "code",
      "metadata": {
        "colab": {
          "base_uri": "https://localhost:8080/",
          "height": 297
        },
        "id": "PCaIw9GPEf5_",
        "outputId": "1047de1c-c52d-4e44-c63c-42c18c1a114c"
      },
      "source": [
        "multiple_buyer(5)"
      ],
      "execution_count": 8,
      "outputs": [
        {
          "output_type": "display_data",
          "data": {
            "image/png": "[encoded data removed]",
            "text/plain": [
              "<Figure size 432x288 with 1 Axes>"
            ]
          },
          "metadata": {
            "tags": [],
            "needs_background": "light"
          }
        }
      ]
    },
    {
      "cell_type": "markdown",
      "metadata": {
        "id": "QmHDAt5vFVX-"
      },
      "source": [
        "The larger number of buyers, the lower the number of Purchase Order in the queue.\n",
        "The diagram makes sense as more buyers work on the Purchase Order."
      ]
    },
    {
      "cell_type": "markdown",
      "metadata": {
        "id": "fF5scA6jF80P"
      },
      "source": [
        "After the simulation, I also want to make use of Little's Law to find out the time Purchase Order is pending in the queue, W\n",
        "\n",
        "We can compute L, which is the average number of Purchse Order in the system,\n",
        "L=λW\n",
        "\n",
        "Where λ is the arrival rate. Here's a function that computes them.\n"
      ]
    },
    {
      "cell_type": "code",
      "metadata": {
        "id": "rHy9bTNAY250"
      },
      "source": [
        "def compute_metrics(results, system):\n",
        "    \"\"\"Compute average number of Purchase Order and the pending time in the system.\n",
        "    \n",
        "    results: TimeSeries of queue lengths\n",
        "    system: System object\n",
        "    \n",
        "    returns: L, W\n",
        "    \"\"\"\n",
        "    L = results.mean()\n",
        "    W = L / system.lam\n",
        "    return L, W"
      ],
      "execution_count": 9,
      "outputs": []
    },
    {
      "cell_type": "code",
      "metadata": {
        "colab": {
          "base_uri": "https://localhost:8080/"
        },
        "id": "vDLsWms8ZCIO",
        "outputId": "8815a08f-7fb7-479c-fe00-56dc20d1998d"
      },
      "source": [
        "\"\"\"\n",
        "\"\"\"\n",
        "results=run_simulation(system, update_func_one)\n",
        "compute_metrics(results, system)"
      ],
      "execution_count": 13,
      "outputs": [
        {
          "output_type": "execute_result",
          "data": {
            "text/plain": [
              "(13.9496253122398, 557.9850124895919)"
            ]
          },
          "metadata": {
            "tags": []
          },
          "execution_count": 13
        }
      ]
    },
    {
      "cell_type": "markdown",
      "metadata": {
        "id": "A3Hw9SA6bA4a"
      },
      "source": [
        "The average number of Purchase Orders in the system is about 14.\n",
        "\n",
        "The amount of pending time is 9.3 Hours"
      ]
    },
    {
      "cell_type": "markdown",
      "metadata": {
        "id": "3vCXJFK9brSx"
      },
      "source": [
        "As the actual incoming Purchase Order fluctuates along the year, I would like to sweep the incoming rate from 0.5 to 0.9 of process rate.\n",
        "\n",
        "The sweep_lam function will run to find out the relationship between process rate to the average time Purchase Order pending in the system.\n",
        "\n"
      ]
    },
    {
      "cell_type": "code",
      "metadata": {
        "id": "gEbxn3iQb7Ue"
      },
      "source": [
        "lam_array = linspace(0.025, 0.25, 101)"
      ],
      "execution_count": 29,
      "outputs": []
    },
    {
      "cell_type": "code",
      "metadata": {
        "id": "yKel_2EDcuYy"
      },
      "source": [
        "def sweep_lam(lam_array, mu, update_func):\n",
        "\n",
        "  sweep = SweepSeries()\n",
        "\n",
        "  for lam in lam_array:\n",
        "    system = PO_system(lam=lam, mu=mu, n=5) \n",
        "    results = run_simulation(system, update_func)\n",
        "    L, W=compute_metrics(results, system)\n",
        "    sweep[lam]=W\n",
        "  \n",
        "  return sweep\n"
      ],
      "execution_count": 30,
      "outputs": []
    },
    {
      "cell_type": "code",
      "metadata": {
        "colab": {
          "base_uri": "https://localhost:8080/",
          "height": 306
        },
        "id": "gJeikr8gdRq6",
        "outputId": "32d40190-52f7-4545-81f9-b1d39fb7fdbe"
      },
      "source": [
        "sweep_lam_result = sweep_lam(lam_array, mu, update_func_one)\n",
        "plt.scatter(sweep_lam_result.index, sweep_lam_result)\n",
        "decorate(xlabel='Lamda, the incoming rate',\n",
        "         ylabel='Average Time Purchasing Order Pending In The System')"
      ],
      "execution_count": 31,
      "outputs": [
        {
          "output_type": "display_data",
          "data": {
            "image/png": "[encoded data removed]",
            "text/plain": [
              "<Figure size 432x288 with 1 Axes>"
            ]
          },
          "metadata": {
            "tags": [],
            "needs_background": "light"
          }
        }
      ]
    }
  ]
}